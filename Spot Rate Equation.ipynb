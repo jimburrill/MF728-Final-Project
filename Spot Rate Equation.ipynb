{
 "cells": [
  {
   "cell_type": "code",
   "execution_count": 13,
   "id": "69abcc4e",
   "metadata": {},
   "outputs": [
    {
     "name": "stdout",
     "output_type": "stream",
     "text": [
      "Spot rate for 1.7 years till maturity: 1.74%\n"
     ]
    }
   ],
   "source": [
    "# Example usage\n",
    "years_till_maturity = 1.70\n",
    "csv_file = \"C:/Users/bobyu/Downloads/HQM_Curves.csv\"\n",
    "spot_rate = get_spot_rate(years_till_maturity, csv_file)\n",
    "\n",
    "def get_spot_rate(years_till_maturity, csv_file):\n",
    "    with open(csv_file, 'r') as file:\n",
    "        csv_reader = csv.reader(file)\n",
    "        next(csv_reader)  \n",
    "\n",
    "        maturities = []\n",
    "        rates = []\n",
    "        for row in csv_reader:\n",
    "            maturities = [float(maturity) for maturity in row[1:]]\n",
    "            rates = [float(rate) for rate in next(csv_reader)[1:]]\n",
    "            break\n",
    "\n",
    "    lower_maturity = max(m for m in maturities if m <= years_till_maturity)\n",
    "    upper_maturity = min(m for m in maturities if m >= years_till_maturity)\n",
    "\n",
    "    lower_rate = rates[maturities.index(lower_maturity)]\n",
    "    upper_rate = rates[maturities.index(upper_maturity)]\n",
    "\n",
    "    slope = (upper_rate - lower_rate) / (upper_maturity - lower_maturity)\n",
    "    spot_rate = lower_rate + slope * (years_till_maturity - lower_maturity)\n",
    "\n",
    "    return spot_rate\n",
    "\n",
    "print(f\"Spot rate for {years_till_maturity} years till maturity: {spot_rate:.2f}%\")"
   ]
  },
  {
   "cell_type": "code",
   "execution_count": null,
   "id": "2bbe3f8c",
   "metadata": {},
   "outputs": [],
   "source": []
  },
  {
   "cell_type": "code",
   "execution_count": null,
   "id": "bdb4a22a",
   "metadata": {},
   "outputs": [],
   "source": []
  }
 ],
 "metadata": {
  "kernelspec": {
   "display_name": "Python 3 (ipykernel)",
   "language": "python",
   "name": "python3"
  },
  "language_info": {
   "codemirror_mode": {
    "name": "ipython",
    "version": 3
   },
   "file_extension": ".py",
   "mimetype": "text/x-python",
   "name": "python",
   "nbconvert_exporter": "python",
   "pygments_lexer": "ipython3",
   "version": "3.11.4"
  }
 },
 "nbformat": 4,
 "nbformat_minor": 5
}
