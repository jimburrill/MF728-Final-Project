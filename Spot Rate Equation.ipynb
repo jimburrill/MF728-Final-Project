{
 "cells": [
  {
   "cell_type": "code",
   "execution_count": 3,
   "id": "69abcc4e",
   "metadata": {},
   "outputs": [
    {
     "name": "stdout",
     "output_type": "stream",
     "text": [
      "Spot rate for 1/31/2013 and 1.7 years till maturity: 0.75%\n"
     ]
    }
   ],
   "source": [
    "import pandas as pd\n",
    "\n",
    "def get_spot_rate(date, years_till_maturity, df):\n",
    "    row = df.loc[df['Date'] == date]\n",
    "\n",
    "    if row.empty:\n",
    "        raise ValueError(f\"Date {date} not found in the data.\")\n",
    "\n",
    "    maturities = [float(col) for col in df.columns if col != 'Date']\n",
    "    lower_maturity = max(m for m in maturities if m <= years_till_maturity)\n",
    "    upper_maturity = min(m for m in maturities if m >= years_till_maturity)\n",
    "\n",
    "    lower_rate = row[str(lower_maturity)].values[0]\n",
    "    upper_rate = row[str(upper_maturity)].values[0]\n",
    "\n",
    "    slope = (upper_rate - lower_rate) / (upper_maturity - lower_maturity)\n",
    "    spot_rate = lower_rate + slope * (years_till_maturity - lower_maturity)\n",
    "\n",
    "    return spot_rate\n",
    "\n",
    "# Example usage\n",
    "csv_file = 'HQM_Curves.csv'\n",
    "df = pd.read_csv(csv_file)\n",
    "\n",
    "date = '1/31/2013'\n",
    "years_till_maturity = 1.70\n",
    "spot_rate = get_spot_rate(date, years_till_maturity, df)\n",
    "print(f\"Spot rate for {date} and {years_till_maturity} years till maturity: {spot_rate:.2f}%\")"
   ]
  },
  {
   "cell_type": "code",
   "execution_count": null,
   "id": "2bbe3f8c",
   "metadata": {},
   "outputs": [],
   "source": []
  },
  {
   "cell_type": "code",
   "execution_count": null,
   "id": "bdb4a22a",
   "metadata": {},
   "outputs": [],
   "source": []
  }
 ],
 "metadata": {
  "kernelspec": {
   "display_name": "Python 3 (ipykernel)",
   "language": "python",
   "name": "python3"
  },
  "language_info": {
   "codemirror_mode": {
    "name": "ipython",
    "version": 3
   },
   "file_extension": ".py",
   "mimetype": "text/x-python",
   "name": "python",
   "nbconvert_exporter": "python",
   "pygments_lexer": "ipython3",
   "version": "3.11.4"
  }
 },
 "nbformat": 4,
 "nbformat_minor": 5
}
