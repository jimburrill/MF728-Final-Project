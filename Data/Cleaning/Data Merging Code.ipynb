{
 "cells": [
  {
   "cell_type": "markdown",
   "id": "018b906c",
   "metadata": {},
   "source": [
    "Jim Burrill\n",
    "MF728 Project\n",
    "Merge Equity Data"
   ]
  },
  {
   "cell_type": "code",
   "execution_count": 35,
   "id": "14c2d49d",
   "metadata": {},
   "outputs": [],
   "source": [
    "import pandas as pd"
   ]
  },
  {
   "cell_type": "code",
   "execution_count": 42,
   "id": "02132a91",
   "metadata": {},
   "outputs": [],
   "source": [
    "#Load data from Excel tabs into DataFrames\n",
    "input_file_name = ['12312023.xlsx', '12312022.xlsx', '12312021.xlsx', '12312020.xlsx', '12312019.xlsx', '12312018.xlsx',\n",
    "                   '12312017.xlsx', '12312016.xlsx', '12312015.xlsx', '12312014.xlsx', '12312013.xlsx', '09302023.xlsx', \n",
    "                   '09302022.xlsx', '09302021.xlsx', '09302020.xlsx', '09302019.xlsx', '09302018.xlsx', '09302017.xlsx',\n",
    "                   '09302016.xlsx', '09302015.xlsx', '09302014.xlsx', '09302013.xlsx', '06302023.xlsx', '06302022.xlsx',\n",
    "                   '06302021.xlsx', '06302020.xlsx', '06302019.xlsx', '06302018.xlsx', '06302017.xlsx', '06302016.xlsx', \n",
    "                   '06302015.xlsx', '06302014.xlsx', '06302013.xlsx', '03312023.xlsx', '03312022.xlsx', '03312021.xlsx', \n",
    "                   '03312020.xlsx', '03312019.xlsx', '03312018.xlsx', '03312017.xlsx', '03312016.xlsx', '03312015.xlsx',\n",
    "                   '03312014.xlsx', '03312013.xlsx']\n",
    "\n",
    "all_merged_df = pd.DataFrame()\n",
    "\n",
    "for name in input_file_name:\n",
    "    equity_df = pd.read_excel(name, sheet_name='Non Dups Stagnant')\n",
    "    public_corps_df = pd.read_excel(name, sheet_name='Public Corps')\n",
    "\n",
    "    #Organize dfs for merging\n",
    "    public_corps_df.rename(columns={'Unnamed: 0': 'Trade Date'}, inplace=True)\n",
    "    public_corps_df.rename(columns={'Unnamed: 15': 'Ticker Length'}, inplace=True)\n",
    "    public_corps_df.rename(columns={'Unnamed: 16': 'BBG Ticker'}, inplace=True)\n",
    "    equity_df.rename(columns={'Ticker': 'BBG Ticker'}, inplace=True)\n",
    "    columns_to_drop = ['Unnamed: 0', 'Date', 'Issuer Name']\n",
    "    equity_merge_df = equity_df.drop(columns_to_drop, axis=1)\n",
    "\n",
    "    #Merge data based on bloomberg ticker symbol\n",
    "    merged_df = pd.merge(public_corps_df, equity_merge_df, on='BBG Ticker', how='left')\n",
    "    merged_df['Date'] = merged_df['Date'].dt.strftime('%m/%d/%Y')\n",
    "    merged_df['Trade Date'] = merged_df['Trade Date'].dt.strftime('%m/%d/%Y')\n",
    "    \n",
    "    all_merged_df = pd.concat([all_merged_df, merged_df], ignore_index=True)\n",
    "\n",
    "#Sort data from most recent date to oldest date\n",
    "all_merged_df = all_merged_df.sort_values(by='Date', ascending=False)\n",
    "\n",
    "#Export to excel\n",
    "#output_file_name = input_file_name[:-5] + '_Merged.xlsx'\n",
    "output_file_name = 'allquarters_equity_merged.xlsx'\n",
    "all_merged_df.to_excel(output_file_name, index=False)"
   ]
  },
  {
   "cell_type": "code",
   "execution_count": null,
   "id": "d7c08945",
   "metadata": {},
   "outputs": [],
   "source": []
  }
 ],
 "metadata": {
  "kernelspec": {
   "display_name": "Python 3 (ipykernel)",
   "language": "python",
   "name": "python3"
  },
  "language_info": {
   "codemirror_mode": {
    "name": "ipython",
    "version": 3
   },
   "file_extension": ".py",
   "mimetype": "text/x-python",
   "name": "python",
   "nbconvert_exporter": "python",
   "pygments_lexer": "ipython3",
   "version": "3.10.9"
  }
 },
 "nbformat": 4,
 "nbformat_minor": 5
}
